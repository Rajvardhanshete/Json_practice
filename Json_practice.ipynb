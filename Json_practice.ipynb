{
 "cells": [
  {
   "cell_type": "code",
   "execution_count": 3,
   "id": "aa34cf1b",
   "metadata": {},
   "outputs": [
    {
     "name": "stderr",
     "output_type": "stream",
     "text": [
      "fatal: destination path 'mapping-data' already exists and is not an empty directory.\n"
     ]
    }
   ],
   "source": [
    "!git clone https://github.com/alfredodeza/mapping-data.git\n",
    "    "
   ]
  },
  {
   "cell_type": "code",
   "execution_count": 2,
   "id": "08b410f9",
   "metadata": {},
   "outputs": [],
   "source": [
    "import pandas as pd"
   ]
  },
  {
   "cell_type": "code",
   "execution_count": 18,
   "id": "785b5ba4",
   "metadata": {},
   "outputs": [
    {
     "data": {
      "text/html": [
       "<div>\n",
       "<style scoped>\n",
       "    .dataframe tbody tr th:only-of-type {\n",
       "        vertical-align: middle;\n",
       "    }\n",
       "\n",
       "    .dataframe tbody tr th {\n",
       "        vertical-align: top;\n",
       "    }\n",
       "\n",
       "    .dataframe thead th {\n",
       "        text-align: right;\n",
       "    }\n",
       "</style>\n",
       "<table border=\"1\" class=\"dataframe\">\n",
       "  <thead>\n",
       "    <tr style=\"text-align: right;\">\n",
       "      <th></th>\n",
       "      <th>Unnamed: 0</th>\n",
       "      <th>name</th>\n",
       "      <th>grape</th>\n",
       "      <th>region</th>\n",
       "      <th>variety</th>\n",
       "      <th>rating</th>\n",
       "      <th>notes</th>\n",
       "    </tr>\n",
       "  </thead>\n",
       "  <tbody>\n",
       "    <tr>\n",
       "      <th>0</th>\n",
       "      <td>0</td>\n",
       "      <td>1000 Stories Bourbon Barrel Aged Batch Blue Ca...</td>\n",
       "      <td>NaN</td>\n",
       "      <td>Mendocino, California</td>\n",
       "      <td>Red Wine</td>\n",
       "      <td>91.0</td>\n",
       "      <td>This is a very special, limited release of 100...</td>\n",
       "    </tr>\n",
       "    <tr>\n",
       "      <th>1</th>\n",
       "      <td>1</td>\n",
       "      <td>1000 Stories Bourbon Barrel Aged Gold Rush Red...</td>\n",
       "      <td>NaN</td>\n",
       "      <td>California</td>\n",
       "      <td>Red Wine</td>\n",
       "      <td>89.0</td>\n",
       "      <td>The California Gold Rush was a period of coura...</td>\n",
       "    </tr>\n",
       "    <tr>\n",
       "      <th>2</th>\n",
       "      <td>2</td>\n",
       "      <td>1000 Stories Bourbon Barrel Aged Gold Rush Red...</td>\n",
       "      <td>NaN</td>\n",
       "      <td>California</td>\n",
       "      <td>Red Wine</td>\n",
       "      <td>90.0</td>\n",
       "      <td>The California Gold Rush was a period of coura...</td>\n",
       "    </tr>\n",
       "    <tr>\n",
       "      <th>3</th>\n",
       "      <td>3</td>\n",
       "      <td>1000 Stories Bourbon Barrel Aged Zinfandel 2013</td>\n",
       "      <td>NaN</td>\n",
       "      <td>North Coast, California</td>\n",
       "      <td>Red Wine</td>\n",
       "      <td>91.0</td>\n",
       "      <td>The wine has a deep, rich purple color. An int...</td>\n",
       "    </tr>\n",
       "    <tr>\n",
       "      <th>4</th>\n",
       "      <td>4</td>\n",
       "      <td>1000 Stories Bourbon Barrel Aged Zinfandel 2014</td>\n",
       "      <td>NaN</td>\n",
       "      <td>California</td>\n",
       "      <td>Red Wine</td>\n",
       "      <td>90.0</td>\n",
       "      <td>Batch #004 is the first release of the 2014 vi...</td>\n",
       "    </tr>\n",
       "  </tbody>\n",
       "</table>\n",
       "</div>"
      ],
      "text/plain": [
       "   Unnamed: 0                                               name  grape  \\\n",
       "0           0  1000 Stories Bourbon Barrel Aged Batch Blue Ca...    NaN   \n",
       "1           1  1000 Stories Bourbon Barrel Aged Gold Rush Red...    NaN   \n",
       "2           2  1000 Stories Bourbon Barrel Aged Gold Rush Red...    NaN   \n",
       "3           3    1000 Stories Bourbon Barrel Aged Zinfandel 2013    NaN   \n",
       "4           4    1000 Stories Bourbon Barrel Aged Zinfandel 2014    NaN   \n",
       "\n",
       "                    region   variety  rating  \\\n",
       "0    Mendocino, California  Red Wine    91.0   \n",
       "1               California  Red Wine    89.0   \n",
       "2               California  Red Wine    90.0   \n",
       "3  North Coast, California  Red Wine    91.0   \n",
       "4               California  Red Wine    90.0   \n",
       "\n",
       "                                               notes  \n",
       "0  This is a very special, limited release of 100...  \n",
       "1  The California Gold Rush was a period of coura...  \n",
       "2  The California Gold Rush was a period of coura...  \n",
       "3  The wine has a deep, rich purple color. An int...  \n",
       "4  Batch #004 is the first release of the 2014 vi...  "
      ]
     },
     "execution_count": 18,
     "metadata": {},
     "output_type": "execute_result"
    }
   ],
   "source": [
    "# reading csv data into data variable\n",
    "data = pd.read_csv(\"../wine-ratings.csv\")\n",
    "data.head()"
   ]
  },
  {
   "cell_type": "code",
   "execution_count": 29,
   "id": "bba510af",
   "metadata": {},
   "outputs": [
    {
     "data": {
      "text/plain": [
       "'1000 Stories Bourbon Barrel Aged Batch Blue Carignan 2016'"
      ]
     },
     "execution_count": 29,
     "metadata": {},
     "output_type": "execute_result"
    }
   ],
   "source": [
    "data_dict = data.to_dict()\n",
    "data_dict['name'][0]"
   ]
  },
  {
   "cell_type": "code",
   "execution_count": 30,
   "id": "4f8002f9",
   "metadata": {},
   "outputs": [
    {
     "data": {
      "text/plain": [
       "'Mendocino, California'"
      ]
     },
     "execution_count": 30,
     "metadata": {},
     "output_type": "execute_result"
    }
   ],
   "source": [
    "data_dict['region'][0]"
   ]
  },
  {
   "cell_type": "code",
   "execution_count": 31,
   "id": "8a7422d8",
   "metadata": {},
   "outputs": [
    {
     "data": {
      "text/plain": [
       "'Red Wine'"
      ]
     },
     "execution_count": 31,
     "metadata": {},
     "output_type": "execute_result"
    }
   ],
   "source": [
    "data_dict['variety'][0]"
   ]
  },
  {
   "cell_type": "code",
   "execution_count": 33,
   "id": "596bf7ca",
   "metadata": {},
   "outputs": [
    {
     "data": {
      "text/plain": [
       "91.0"
      ]
     },
     "execution_count": 33,
     "metadata": {},
     "output_type": "execute_result"
    }
   ],
   "source": [
    "data_dict['rating'][0]"
   ]
  },
  {
   "cell_type": "code",
   "execution_count": 37,
   "id": "31bce6c5",
   "metadata": {},
   "outputs": [
    {
     "data": {
      "text/html": [
       "<div>\n",
       "<style scoped>\n",
       "    .dataframe tbody tr th:only-of-type {\n",
       "        vertical-align: middle;\n",
       "    }\n",
       "\n",
       "    .dataframe tbody tr th {\n",
       "        vertical-align: top;\n",
       "    }\n",
       "\n",
       "    .dataframe thead th {\n",
       "        text-align: right;\n",
       "    }\n",
       "</style>\n",
       "<table border=\"1\" class=\"dataframe\">\n",
       "  <thead>\n",
       "    <tr style=\"text-align: right;\">\n",
       "      <th></th>\n",
       "      <th>Unnamed: 0</th>\n",
       "      <th>name</th>\n",
       "      <th>grape</th>\n",
       "      <th>region</th>\n",
       "      <th>variety</th>\n",
       "      <th>rating</th>\n",
       "      <th>notes</th>\n",
       "    </tr>\n",
       "  </thead>\n",
       "  <tbody>\n",
       "    <tr>\n",
       "      <th>0</th>\n",
       "      <td>0</td>\n",
       "      <td>1000 Stories Bourbon Barrel Aged Batch Blue Ca...</td>\n",
       "      <td>NaN</td>\n",
       "      <td>Mendocino, California</td>\n",
       "      <td>Red Wine</td>\n",
       "      <td>91.0</td>\n",
       "      <td>This is a very special, limited release of 100...</td>\n",
       "    </tr>\n",
       "    <tr>\n",
       "      <th>1</th>\n",
       "      <td>1</td>\n",
       "      <td>1000 Stories Bourbon Barrel Aged Gold Rush Red...</td>\n",
       "      <td>NaN</td>\n",
       "      <td>California</td>\n",
       "      <td>Red Wine</td>\n",
       "      <td>89.0</td>\n",
       "      <td>The California Gold Rush was a period of coura...</td>\n",
       "    </tr>\n",
       "    <tr>\n",
       "      <th>2</th>\n",
       "      <td>2</td>\n",
       "      <td>1000 Stories Bourbon Barrel Aged Gold Rush Red...</td>\n",
       "      <td>NaN</td>\n",
       "      <td>California</td>\n",
       "      <td>Red Wine</td>\n",
       "      <td>90.0</td>\n",
       "      <td>The California Gold Rush was a period of coura...</td>\n",
       "    </tr>\n",
       "    <tr>\n",
       "      <th>3</th>\n",
       "      <td>3</td>\n",
       "      <td>1000 Stories Bourbon Barrel Aged Zinfandel 2013</td>\n",
       "      <td>NaN</td>\n",
       "      <td>North Coast, California</td>\n",
       "      <td>Red Wine</td>\n",
       "      <td>91.0</td>\n",
       "      <td>The wine has a deep, rich purple color. An int...</td>\n",
       "    </tr>\n",
       "    <tr>\n",
       "      <th>4</th>\n",
       "      <td>4</td>\n",
       "      <td>1000 Stories Bourbon Barrel Aged Zinfandel 2014</td>\n",
       "      <td>NaN</td>\n",
       "      <td>California</td>\n",
       "      <td>Red Wine</td>\n",
       "      <td>90.0</td>\n",
       "      <td>Batch #004 is the first release of the 2014 vi...</td>\n",
       "    </tr>\n",
       "    <tr>\n",
       "      <th>...</th>\n",
       "      <td>...</td>\n",
       "      <td>...</td>\n",
       "      <td>...</td>\n",
       "      <td>...</td>\n",
       "      <td>...</td>\n",
       "      <td>...</td>\n",
       "      <td>...</td>\n",
       "    </tr>\n",
       "    <tr>\n",
       "      <th>32775</th>\n",
       "      <td>32775</td>\n",
       "      <td>Lewis Cellars Syrah Ethan's Blend 2005</td>\n",
       "      <td>NaN</td>\n",
       "      <td>California</td>\n",
       "      <td>Red Wine</td>\n",
       "      <td>92.0</td>\n",
       "      <td>Now 7 years old, Alec's younger brother Ethan ...</td>\n",
       "    </tr>\n",
       "    <tr>\n",
       "      <th>32776</th>\n",
       "      <td>32776</td>\n",
       "      <td>Lewis Cellars Syrah Ethan's Blend 2014</td>\n",
       "      <td>NaN</td>\n",
       "      <td>California</td>\n",
       "      <td>Red Wine</td>\n",
       "      <td>93.0</td>\n",
       "      <td>Born in 2000, everything about Ethan and his n...</td>\n",
       "    </tr>\n",
       "    <tr>\n",
       "      <th>32777</th>\n",
       "      <td>32777</td>\n",
       "      <td>Lewis Cellars Syrah Ethan's Blend 2009</td>\n",
       "      <td>NaN</td>\n",
       "      <td>California</td>\n",
       "      <td>Red Wine</td>\n",
       "      <td>94.0</td>\n",
       "      <td>Positioned between brothers, Alec and Mason, E...</td>\n",
       "    </tr>\n",
       "    <tr>\n",
       "      <th>32778</th>\n",
       "      <td>32778</td>\n",
       "      <td>Lexington Apex Red 2011</td>\n",
       "      <td>NaN</td>\n",
       "      <td>Santa Cruz Mountains, California</td>\n",
       "      <td>Red Wine</td>\n",
       "      <td>91.0</td>\n",
       "      <td>Blend: 99% Cabernet Sauvignon, 1% Merlot</td>\n",
       "    </tr>\n",
       "    <tr>\n",
       "      <th>32779</th>\n",
       "      <td>32779</td>\n",
       "      <td>Lexington Gist Ranch Cabernet Sauvignon 2011</td>\n",
       "      <td>NaN</td>\n",
       "      <td>Santa Cruz Mountains, California</td>\n",
       "      <td>Red Wine</td>\n",
       "      <td>91.0</td>\n",
       "      <td>Blend: 80% Cabernet Sauvignon, 20% Merlot</td>\n",
       "    </tr>\n",
       "  </tbody>\n",
       "</table>\n",
       "<p>23350 rows × 7 columns</p>\n",
       "</div>"
      ],
      "text/plain": [
       "       Unnamed: 0                                               name  grape  \\\n",
       "0               0  1000 Stories Bourbon Barrel Aged Batch Blue Ca...    NaN   \n",
       "1               1  1000 Stories Bourbon Barrel Aged Gold Rush Red...    NaN   \n",
       "2               2  1000 Stories Bourbon Barrel Aged Gold Rush Red...    NaN   \n",
       "3               3    1000 Stories Bourbon Barrel Aged Zinfandel 2013    NaN   \n",
       "4               4    1000 Stories Bourbon Barrel Aged Zinfandel 2014    NaN   \n",
       "...           ...                                                ...    ...   \n",
       "32775       32775             Lewis Cellars Syrah Ethan's Blend 2005    NaN   \n",
       "32776       32776             Lewis Cellars Syrah Ethan's Blend 2014    NaN   \n",
       "32777       32777             Lewis Cellars Syrah Ethan's Blend 2009    NaN   \n",
       "32778       32778                            Lexington Apex Red 2011    NaN   \n",
       "32779       32779       Lexington Gist Ranch Cabernet Sauvignon 2011    NaN   \n",
       "\n",
       "                                 region   variety  rating  \\\n",
       "0                 Mendocino, California  Red Wine    91.0   \n",
       "1                            California  Red Wine    89.0   \n",
       "2                            California  Red Wine    90.0   \n",
       "3               North Coast, California  Red Wine    91.0   \n",
       "4                            California  Red Wine    90.0   \n",
       "...                                 ...       ...     ...   \n",
       "32775                        California  Red Wine    92.0   \n",
       "32776                        California  Red Wine    93.0   \n",
       "32777                        California  Red Wine    94.0   \n",
       "32778  Santa Cruz Mountains, California  Red Wine    91.0   \n",
       "32779  Santa Cruz Mountains, California  Red Wine    91.0   \n",
       "\n",
       "                                                   notes  \n",
       "0      This is a very special, limited release of 100...  \n",
       "1      The California Gold Rush was a period of coura...  \n",
       "2      The California Gold Rush was a period of coura...  \n",
       "3      The wine has a deep, rich purple color. An int...  \n",
       "4      Batch #004 is the first release of the 2014 vi...  \n",
       "...                                                  ...  \n",
       "32775  Now 7 years old, Alec's younger brother Ethan ...  \n",
       "32776  Born in 2000, everything about Ethan and his n...  \n",
       "32777  Positioned between brothers, Alec and Mason, E...  \n",
       "32778          Blend: 99% Cabernet Sauvignon, 1% Merlot   \n",
       "32779          Blend: 80% Cabernet Sauvignon, 20% Merlot  \n",
       "\n",
       "[23350 rows x 7 columns]"
      ]
     },
     "execution_count": 37,
     "metadata": {},
     "output_type": "execute_result"
    }
   ],
   "source": [
    "red_wine = (data[data['variety']==\"Red Wine\"])\n",
    "red_wine"
   ]
  },
  {
   "cell_type": "code",
   "execution_count": 38,
   "id": "b735e01c",
   "metadata": {},
   "outputs": [
    {
     "data": {
      "text/html": [
       "<div>\n",
       "<style scoped>\n",
       "    .dataframe tbody tr th:only-of-type {\n",
       "        vertical-align: middle;\n",
       "    }\n",
       "\n",
       "    .dataframe tbody tr th {\n",
       "        vertical-align: top;\n",
       "    }\n",
       "\n",
       "    .dataframe thead th {\n",
       "        text-align: right;\n",
       "    }\n",
       "</style>\n",
       "<table border=\"1\" class=\"dataframe\">\n",
       "  <thead>\n",
       "    <tr style=\"text-align: right;\">\n",
       "      <th></th>\n",
       "      <th>Unnamed: 0</th>\n",
       "      <th>name</th>\n",
       "      <th>grape</th>\n",
       "      <th>region</th>\n",
       "      <th>variety</th>\n",
       "      <th>rating</th>\n",
       "      <th>notes</th>\n",
       "    </tr>\n",
       "  </thead>\n",
       "  <tbody>\n",
       "    <tr>\n",
       "      <th>12</th>\n",
       "      <td>12</td>\n",
       "      <td>14 Hands Chardonnay 2011</td>\n",
       "      <td>NaN</td>\n",
       "      <td>Washington</td>\n",
       "      <td>White Wine</td>\n",
       "      <td>89.0</td>\n",
       "      <td>This Chardonnay displays aromas and flavors of...</td>\n",
       "    </tr>\n",
       "    <tr>\n",
       "      <th>16</th>\n",
       "      <td>16</td>\n",
       "      <td>14 Hands Riesling 2014</td>\n",
       "      <td>NaN</td>\n",
       "      <td>Washington</td>\n",
       "      <td>White Wine</td>\n",
       "      <td>88.0</td>\n",
       "      <td>This crisp Riesling shows bright flavors of ap...</td>\n",
       "    </tr>\n",
       "    <tr>\n",
       "      <th>17</th>\n",
       "      <td>17</td>\n",
       "      <td>14 Hands Riesling 2015</td>\n",
       "      <td>NaN</td>\n",
       "      <td>Washington</td>\n",
       "      <td>White Wine</td>\n",
       "      <td>88.0</td>\n",
       "      <td>This crisp Riesling shows bright flavors of ap...</td>\n",
       "    </tr>\n",
       "    <tr>\n",
       "      <th>18</th>\n",
       "      <td>18</td>\n",
       "      <td>14 Hands Riesling 2016</td>\n",
       "      <td>NaN</td>\n",
       "      <td>Washington</td>\n",
       "      <td>White Wine</td>\n",
       "      <td>88.0</td>\n",
       "      <td>This crisp Riesling shows bright flavors of ap...</td>\n",
       "    </tr>\n",
       "    <tr>\n",
       "      <th>26</th>\n",
       "      <td>26</td>\n",
       "      <td>1865 Single Vineyard Sauvignon Blanc 2011</td>\n",
       "      <td>NaN</td>\n",
       "      <td>Chile</td>\n",
       "      <td>White Wine</td>\n",
       "      <td>91.0</td>\n",
       "      <td>Almost transparent pale yellow, young, with gr...</td>\n",
       "    </tr>\n",
       "    <tr>\n",
       "      <th>...</th>\n",
       "      <td>...</td>\n",
       "      <td>...</td>\n",
       "      <td>...</td>\n",
       "      <td>...</td>\n",
       "      <td>...</td>\n",
       "      <td>...</td>\n",
       "      <td>...</td>\n",
       "    </tr>\n",
       "    <tr>\n",
       "      <th>32770</th>\n",
       "      <td>32770</td>\n",
       "      <td>Lewis Cellars Sauvignon Blanc 2018</td>\n",
       "      <td>NaN</td>\n",
       "      <td>Napa Valley, California</td>\n",
       "      <td>White Wine</td>\n",
       "      <td>92.0</td>\n",
       "      <td>Like a sailplane this 2018 Sauvignon Blanc soa...</td>\n",
       "    </tr>\n",
       "    <tr>\n",
       "      <th>32771</th>\n",
       "      <td>32771</td>\n",
       "      <td>Lewis Cellars Sonoma Chardonnay 2014</td>\n",
       "      <td>NaN</td>\n",
       "      <td>Russian River, Sonoma County, California</td>\n",
       "      <td>White Wine</td>\n",
       "      <td>93.0</td>\n",
       "      <td>Sourced from 40-year old vines the wine is unu...</td>\n",
       "    </tr>\n",
       "    <tr>\n",
       "      <th>32772</th>\n",
       "      <td>32772</td>\n",
       "      <td>Lewis Cellars Sonoma Chardonnay 2015</td>\n",
       "      <td>NaN</td>\n",
       "      <td>Russian River, Sonoma County, California</td>\n",
       "      <td>White Wine</td>\n",
       "      <td>92.0</td>\n",
       "      <td>Blazing tropical fruit, exotic spices and sexy...</td>\n",
       "    </tr>\n",
       "    <tr>\n",
       "      <th>32773</th>\n",
       "      <td>32773</td>\n",
       "      <td>Lewis Cellars Sonoma Chardonnay 2017</td>\n",
       "      <td>NaN</td>\n",
       "      <td>Russian River, Sonoma County, California</td>\n",
       "      <td>White Wine</td>\n",
       "      <td>92.0</td>\n",
       "      <td>Chardonnay is whole cluster pressed, barrel fe...</td>\n",
       "    </tr>\n",
       "    <tr>\n",
       "      <th>32774</th>\n",
       "      <td>32774</td>\n",
       "      <td>Lewis Cellars Sonoma Valley Chardonnay 2008</td>\n",
       "      <td>NaN</td>\n",
       "      <td>Sonoma County, California</td>\n",
       "      <td>White Wine</td>\n",
       "      <td>91.0</td>\n",
       "      <td>Our Sonoma Chardonnay comes from some of the o...</td>\n",
       "    </tr>\n",
       "  </tbody>\n",
       "</table>\n",
       "<p>7445 rows × 7 columns</p>\n",
       "</div>"
      ],
      "text/plain": [
       "       Unnamed: 0                                         name  grape  \\\n",
       "12             12                     14 Hands Chardonnay 2011    NaN   \n",
       "16             16                       14 Hands Riesling 2014    NaN   \n",
       "17             17                       14 Hands Riesling 2015    NaN   \n",
       "18             18                       14 Hands Riesling 2016    NaN   \n",
       "26             26    1865 Single Vineyard Sauvignon Blanc 2011    NaN   \n",
       "...           ...                                          ...    ...   \n",
       "32770       32770           Lewis Cellars Sauvignon Blanc 2018    NaN   \n",
       "32771       32771         Lewis Cellars Sonoma Chardonnay 2014    NaN   \n",
       "32772       32772         Lewis Cellars Sonoma Chardonnay 2015    NaN   \n",
       "32773       32773         Lewis Cellars Sonoma Chardonnay 2017    NaN   \n",
       "32774       32774  Lewis Cellars Sonoma Valley Chardonnay 2008    NaN   \n",
       "\n",
       "                                         region     variety  rating  \\\n",
       "12                                   Washington  White Wine    89.0   \n",
       "16                                   Washington  White Wine    88.0   \n",
       "17                                   Washington  White Wine    88.0   \n",
       "18                                   Washington  White Wine    88.0   \n",
       "26                                        Chile  White Wine    91.0   \n",
       "...                                         ...         ...     ...   \n",
       "32770                   Napa Valley, California  White Wine    92.0   \n",
       "32771  Russian River, Sonoma County, California  White Wine    93.0   \n",
       "32772  Russian River, Sonoma County, California  White Wine    92.0   \n",
       "32773  Russian River, Sonoma County, California  White Wine    92.0   \n",
       "32774                 Sonoma County, California  White Wine    91.0   \n",
       "\n",
       "                                                   notes  \n",
       "12     This Chardonnay displays aromas and flavors of...  \n",
       "16     This crisp Riesling shows bright flavors of ap...  \n",
       "17     This crisp Riesling shows bright flavors of ap...  \n",
       "18     This crisp Riesling shows bright flavors of ap...  \n",
       "26     Almost transparent pale yellow, young, with gr...  \n",
       "...                                                  ...  \n",
       "32770  Like a sailplane this 2018 Sauvignon Blanc soa...  \n",
       "32771  Sourced from 40-year old vines the wine is unu...  \n",
       "32772  Blazing tropical fruit, exotic spices and sexy...  \n",
       "32773  Chardonnay is whole cluster pressed, barrel fe...  \n",
       "32774  Our Sonoma Chardonnay comes from some of the o...  \n",
       "\n",
       "[7445 rows x 7 columns]"
      ]
     },
     "execution_count": 38,
     "metadata": {},
     "output_type": "execute_result"
    }
   ],
   "source": [
    "white_wine = (data[data['variety']=='White Wine'])\n",
    "white_wine"
   ]
  },
  {
   "cell_type": "code",
   "execution_count": 49,
   "id": "34264d4a",
   "metadata": {},
   "outputs": [
    {
     "data": {
      "text/html": [
       "<div>\n",
       "<style scoped>\n",
       "    .dataframe tbody tr th:only-of-type {\n",
       "        vertical-align: middle;\n",
       "    }\n",
       "\n",
       "    .dataframe tbody tr th {\n",
       "        vertical-align: top;\n",
       "    }\n",
       "\n",
       "    .dataframe thead th {\n",
       "        text-align: right;\n",
       "    }\n",
       "</style>\n",
       "<table border=\"1\" class=\"dataframe\">\n",
       "  <thead>\n",
       "    <tr style=\"text-align: right;\">\n",
       "      <th></th>\n",
       "      <th>Unnamed: 0</th>\n",
       "      <th>name</th>\n",
       "      <th>grape</th>\n",
       "      <th>region</th>\n",
       "      <th>variety</th>\n",
       "      <th>rating</th>\n",
       "      <th>notes</th>\n",
       "    </tr>\n",
       "  </thead>\n",
       "  <tbody>\n",
       "    <tr>\n",
       "      <th>0</th>\n",
       "      <td>0</td>\n",
       "      <td>1000 Stories Bourbon Barrel Aged Batch Blue Ca...</td>\n",
       "      <td>NaN</td>\n",
       "      <td>Mendocino, California</td>\n",
       "      <td>Red Wine</td>\n",
       "      <td>91.0</td>\n",
       "      <td>This is a very special, limited release of 100...</td>\n",
       "    </tr>\n",
       "    <tr>\n",
       "      <th>3</th>\n",
       "      <td>3</td>\n",
       "      <td>1000 Stories Bourbon Barrel Aged Zinfandel 2013</td>\n",
       "      <td>NaN</td>\n",
       "      <td>North Coast, California</td>\n",
       "      <td>Red Wine</td>\n",
       "      <td>91.0</td>\n",
       "      <td>The wine has a deep, rich purple color. An int...</td>\n",
       "    </tr>\n",
       "    <tr>\n",
       "      <th>5</th>\n",
       "      <td>5</td>\n",
       "      <td>1000 Stories Bourbon Barrel Aged Zinfandel 2016</td>\n",
       "      <td>NaN</td>\n",
       "      <td>California</td>\n",
       "      <td>Red Wine</td>\n",
       "      <td>91.0</td>\n",
       "      <td>1,000 Stories Bourbon barrel-aged Zinfandel is...</td>\n",
       "    </tr>\n",
       "    <tr>\n",
       "      <th>6</th>\n",
       "      <td>6</td>\n",
       "      <td>1000 Stories Bourbon Barrel Aged Zinfandel 2017</td>\n",
       "      <td>NaN</td>\n",
       "      <td>California</td>\n",
       "      <td>Red Wine</td>\n",
       "      <td>92.0</td>\n",
       "      <td>Batch 55 embodies an opulent vintage, which sa...</td>\n",
       "    </tr>\n",
       "    <tr>\n",
       "      <th>7</th>\n",
       "      <td>7</td>\n",
       "      <td>12 Linajes Crianza 2014</td>\n",
       "      <td>NaN</td>\n",
       "      <td>Ribera del Duero, Spain</td>\n",
       "      <td>Red Wine</td>\n",
       "      <td>92.0</td>\n",
       "      <td>Red with violet hues. The aromas are very inte...</td>\n",
       "    </tr>\n",
       "    <tr>\n",
       "      <th>...</th>\n",
       "      <td>...</td>\n",
       "      <td>...</td>\n",
       "      <td>...</td>\n",
       "      <td>...</td>\n",
       "      <td>...</td>\n",
       "      <td>...</td>\n",
       "      <td>...</td>\n",
       "    </tr>\n",
       "    <tr>\n",
       "      <th>32773</th>\n",
       "      <td>32773</td>\n",
       "      <td>Lewis Cellars Sonoma Chardonnay 2017</td>\n",
       "      <td>NaN</td>\n",
       "      <td>Russian River, Sonoma County, California</td>\n",
       "      <td>White Wine</td>\n",
       "      <td>92.0</td>\n",
       "      <td>Chardonnay is whole cluster pressed, barrel fe...</td>\n",
       "    </tr>\n",
       "    <tr>\n",
       "      <th>32774</th>\n",
       "      <td>32774</td>\n",
       "      <td>Lewis Cellars Sonoma Valley Chardonnay 2008</td>\n",
       "      <td>NaN</td>\n",
       "      <td>Sonoma County, California</td>\n",
       "      <td>White Wine</td>\n",
       "      <td>91.0</td>\n",
       "      <td>Our Sonoma Chardonnay comes from some of the o...</td>\n",
       "    </tr>\n",
       "    <tr>\n",
       "      <th>32775</th>\n",
       "      <td>32775</td>\n",
       "      <td>Lewis Cellars Syrah Ethan's Blend 2005</td>\n",
       "      <td>NaN</td>\n",
       "      <td>California</td>\n",
       "      <td>Red Wine</td>\n",
       "      <td>92.0</td>\n",
       "      <td>Now 7 years old, Alec's younger brother Ethan ...</td>\n",
       "    </tr>\n",
       "    <tr>\n",
       "      <th>32778</th>\n",
       "      <td>32778</td>\n",
       "      <td>Lexington Apex Red 2011</td>\n",
       "      <td>NaN</td>\n",
       "      <td>Santa Cruz Mountains, California</td>\n",
       "      <td>Red Wine</td>\n",
       "      <td>91.0</td>\n",
       "      <td>Blend: 99% Cabernet Sauvignon, 1% Merlot</td>\n",
       "    </tr>\n",
       "    <tr>\n",
       "      <th>32779</th>\n",
       "      <td>32779</td>\n",
       "      <td>Lexington Gist Ranch Cabernet Sauvignon 2011</td>\n",
       "      <td>NaN</td>\n",
       "      <td>Santa Cruz Mountains, California</td>\n",
       "      <td>Red Wine</td>\n",
       "      <td>91.0</td>\n",
       "      <td>Blend: 80% Cabernet Sauvignon, 20% Merlot</td>\n",
       "    </tr>\n",
       "  </tbody>\n",
       "</table>\n",
       "<p>10836 rows × 7 columns</p>\n",
       "</div>"
      ],
      "text/plain": [
       "       Unnamed: 0                                               name  grape  \\\n",
       "0               0  1000 Stories Bourbon Barrel Aged Batch Blue Ca...    NaN   \n",
       "3               3    1000 Stories Bourbon Barrel Aged Zinfandel 2013    NaN   \n",
       "5               5    1000 Stories Bourbon Barrel Aged Zinfandel 2016    NaN   \n",
       "6               6    1000 Stories Bourbon Barrel Aged Zinfandel 2017    NaN   \n",
       "7               7                            12 Linajes Crianza 2014    NaN   \n",
       "...           ...                                                ...    ...   \n",
       "32773       32773               Lewis Cellars Sonoma Chardonnay 2017    NaN   \n",
       "32774       32774        Lewis Cellars Sonoma Valley Chardonnay 2008    NaN   \n",
       "32775       32775             Lewis Cellars Syrah Ethan's Blend 2005    NaN   \n",
       "32778       32778                            Lexington Apex Red 2011    NaN   \n",
       "32779       32779       Lexington Gist Ranch Cabernet Sauvignon 2011    NaN   \n",
       "\n",
       "                                         region     variety  rating  \\\n",
       "0                         Mendocino, California    Red Wine    91.0   \n",
       "3                       North Coast, California    Red Wine    91.0   \n",
       "5                                    California    Red Wine    91.0   \n",
       "6                                    California    Red Wine    92.0   \n",
       "7                       Ribera del Duero, Spain    Red Wine    92.0   \n",
       "...                                         ...         ...     ...   \n",
       "32773  Russian River, Sonoma County, California  White Wine    92.0   \n",
       "32774                 Sonoma County, California  White Wine    91.0   \n",
       "32775                                California    Red Wine    92.0   \n",
       "32778          Santa Cruz Mountains, California    Red Wine    91.0   \n",
       "32779          Santa Cruz Mountains, California    Red Wine    91.0   \n",
       "\n",
       "                                                   notes  \n",
       "0      This is a very special, limited release of 100...  \n",
       "3      The wine has a deep, rich purple color. An int...  \n",
       "5      1,000 Stories Bourbon barrel-aged Zinfandel is...  \n",
       "6      Batch 55 embodies an opulent vintage, which sa...  \n",
       "7      Red with violet hues. The aromas are very inte...  \n",
       "...                                                  ...  \n",
       "32773  Chardonnay is whole cluster pressed, barrel fe...  \n",
       "32774  Our Sonoma Chardonnay comes from some of the o...  \n",
       "32775  Now 7 years old, Alec's younger brother Ethan ...  \n",
       "32778          Blend: 99% Cabernet Sauvignon, 1% Merlot   \n",
       "32779          Blend: 80% Cabernet Sauvignon, 20% Merlot  \n",
       "\n",
       "[10836 rows x 7 columns]"
      ]
     },
     "execution_count": 49,
     "metadata": {},
     "output_type": "execute_result"
    }
   ],
   "source": [
    "specific_score = data[(data['rating']>90) & (data['rating']<=92)]\n",
    "specific_score"
   ]
  },
  {
   "cell_type": "code",
   "execution_count": 50,
   "id": "8a816980",
   "metadata": {},
   "outputs": [],
   "source": [
    "with open(\"/Users/rajva/Practice_Project/mapping-data/sample_data/red_wine.json\",\"w\") as f:\n",
    "    red_wine.to_json(f, orient='records', lines=True)"
   ]
  },
  {
   "cell_type": "code",
   "execution_count": 57,
   "id": "e574246e",
   "metadata": {},
   "outputs": [],
   "source": [
    "with open(\"/Users/rajva/Practice_Project/mapping-data/sample_data/white_wine.json\",\"w\") as f:\n",
    "    white_wine.to_json(f, orient='records', lines=True)"
   ]
  },
  {
   "cell_type": "code",
   "execution_count": 61,
   "id": "e8fa337d",
   "metadata": {},
   "outputs": [
    {
     "name": "stdout",
     "output_type": "stream",
     "text": [
      "{\"Unnamed: 0\":12,\"name\":\"14 Hands Chardonnay 2011\",\"grape\":null,\"region\":\"Washington\",\"variety\":\"White Wine\",\"rating\":89.0,\"notes\":\"This Chardonnay displays aromas and flavors of fresh apple with subtle hints of vanilla and buttery caramel. On the palate, notes of sweet oak and spice give way to a soft, lingering finish.\"}\n",
      "\n"
     ]
    }
   ],
   "source": [
    "with open(\"/Users/rajva/Practice_Project/mapping-data/sample_data/white_wine.json\",\"r\") as f:\n",
    "    data = f.readline(500)\n",
    "    print(data)"
   ]
  },
  {
   "cell_type": "code",
   "execution_count": 62,
   "id": "ff24150c",
   "metadata": {},
   "outputs": [
    {
     "name": "stdout",
     "output_type": "stream",
     "text": [
      "Initialized empty Git repository in C:/Users/rajva/Practice_Project/.git/\n"
     ]
    }
   ],
   "source": [
    "!git init\n"
   ]
  },
  {
   "cell_type": "code",
   "execution_count": 63,
   "id": "58194338",
   "metadata": {},
   "outputs": [
    {
     "name": "stdout",
     "output_type": "stream",
     "text": [
      "On branch master\n",
      "\n",
      "No commits yet\n",
      "\n",
      "Untracked files:\n",
      "  (use \"git add <file>...\" to include in what will be committed)\n",
      "\t.ipynb_checkpoints/\n",
      "\tJson_practice.ipynb\n",
      "\tUntitled.ipynb\n",
      "\tmapping-data/\n",
      "\n",
      "nothing added to commit but untracked files present (use \"git add\" to track)\n"
     ]
    }
   ],
   "source": [
    "!git status"
   ]
  },
  {
   "cell_type": "code",
   "execution_count": 64,
   "id": "4f0300c2",
   "metadata": {},
   "outputs": [
    {
     "name": "stderr",
     "output_type": "stream",
     "text": [
      "warning: in the working copy of '.ipynb_checkpoints/Json_practice-checkpoint.ipynb', LF will be replaced by CRLF the next time Git touches it\n",
      "warning: in the working copy of '.ipynb_checkpoints/Untitled-checkpoint.ipynb', LF will be replaced by CRLF the next time Git touches it\n",
      "warning: in the working copy of 'Json_practice.ipynb', LF will be replaced by CRLF the next time Git touches it\n",
      "warning: in the working copy of 'Untitled.ipynb', LF will be replaced by CRLF the next time Git touches it\n",
      "warning: adding embedded git repository: mapping-data\n",
      "hint: You've added another git repository inside your current repository.\n",
      "hint: Clones of the outer repository will not contain the contents of\n",
      "hint: the embedded repository and will not know how to obtain it.\n",
      "hint: If you meant to add a submodule, use:\n",
      "hint:\n",
      "hint: \tgit submodule add <url> mapping-data\n",
      "hint:\n",
      "hint: If you added this path by mistake, you can remove it from the\n",
      "hint: index with:\n",
      "hint:\n",
      "hint: \tgit rm --cached mapping-data\n",
      "hint:\n",
      "hint: See \"git help submodule\" for more information.\n",
      "hint: Disable this message with \"git config advice.addEmbeddedRepo false\"\n"
     ]
    }
   ],
   "source": [
    "!git add ."
   ]
  },
  {
   "cell_type": "code",
   "execution_count": 67,
   "id": "6b0412c0",
   "metadata": {},
   "outputs": [],
   "source": [
    "!git add ."
   ]
  },
  {
   "cell_type": "code",
   "execution_count": 68,
   "id": "997490c8",
   "metadata": {},
   "outputs": [
    {
     "name": "stdout",
     "output_type": "stream",
     "text": [
      "On branch master\n",
      "\n",
      "No commits yet\n",
      "\n",
      "Changes to be committed:\n",
      "  (use \"git rm --cached <file>...\" to unstage)\n",
      "\tnew file:   .ipynb_checkpoints/Json_practice-checkpoint.ipynb\n",
      "\tnew file:   .ipynb_checkpoints/Untitled-checkpoint.ipynb\n",
      "\tnew file:   Json_practice.ipynb\n",
      "\tnew file:   Untitled.ipynb\n",
      "\tnew file:   mapping-data\n",
      "\n",
      "Changes not staged for commit:\n",
      "  (use \"git add <file>...\" to update what will be committed)\n",
      "  (use \"git restore <file>...\" to discard changes in working directory)\n",
      "  (commit or discard the untracked or modified content in submodules)\n",
      "\tmodified:   mapping-data (untracked content)\n",
      "\n"
     ]
    }
   ],
   "source": [
    "!git status"
   ]
  },
  {
   "cell_type": "code",
   "execution_count": 69,
   "id": "851cec25",
   "metadata": {},
   "outputs": [
    {
     "name": "stdout",
     "output_type": "stream",
     "text": [
      "[master (root-commit) 20e2b67] all changes and data retrived from wine csv and categorized in different file using pandas library\n",
      " 5 files changed, 2880 insertions(+)\n",
      " create mode 100644 .ipynb_checkpoints/Json_practice-checkpoint.ipynb\n",
      " create mode 100644 .ipynb_checkpoints/Untitled-checkpoint.ipynb\n",
      " create mode 100644 Json_practice.ipynb\n",
      " create mode 100644 Untitled.ipynb\n",
      " create mode 160000 mapping-data\n"
     ]
    }
   ],
   "source": [
    "!git commit -m \"all changes and data retrived from wine csv and categorized in different file using pandas library\""
   ]
  },
  {
   "cell_type": "code",
   "execution_count": 70,
   "id": "4a21a2d1",
   "metadata": {},
   "outputs": [
    {
     "name": "stdout",
     "output_type": "stream",
     "text": [
      "On branch master\n",
      "Changes not staged for commit:\n",
      "  (use \"git add <file>...\" to update what will be committed)\n",
      "  (use \"git restore <file>...\" to discard changes in working directory)\n",
      "  (commit or discard the untracked or modified content in submodules)\n",
      "\tmodified:   Json_practice.ipynb\n",
      "\tmodified:   mapping-data (untracked content)\n",
      "\n",
      "no changes added to commit (use \"git add\" and/or \"git commit -a\")\n"
     ]
    }
   ],
   "source": [
    "!git status"
   ]
  },
  {
   "cell_type": "code",
   "execution_count": 71,
   "id": "e5d7bceb",
   "metadata": {},
   "outputs": [
    {
     "name": "stderr",
     "output_type": "stream",
     "text": [
      "error: src refspec main does not match any\n",
      "error: failed to push some refs to 'origin'\n"
     ]
    }
   ],
   "source": [
    "!git push origin main"
   ]
  },
  {
   "cell_type": "code",
   "execution_count": 72,
   "id": "77f5ccea",
   "metadata": {},
   "outputs": [],
   "source": [
    "!git remote add origin https://github.com/Rajvardhanshete/Json_practice.git\n"
   ]
  },
  {
   "cell_type": "code",
   "execution_count": 73,
   "id": "c632366a",
   "metadata": {},
   "outputs": [
    {
     "name": "stderr",
     "output_type": "stream",
     "text": [
      "warning: in the working copy of 'Json_practice.ipynb', LF will be replaced by CRLF the next time Git touches it\n"
     ]
    }
   ],
   "source": [
    "!git add ."
   ]
  },
  {
   "cell_type": "code",
   "execution_count": null,
   "id": "704514c7",
   "metadata": {},
   "outputs": [],
   "source": []
  }
 ],
 "metadata": {
  "kernelspec": {
   "display_name": "Python 3 (ipykernel)",
   "language": "python",
   "name": "python3"
  },
  "language_info": {
   "codemirror_mode": {
    "name": "ipython",
    "version": 3
   },
   "file_extension": ".py",
   "mimetype": "text/x-python",
   "name": "python",
   "nbconvert_exporter": "python",
   "pygments_lexer": "ipython3",
   "version": "3.9.13"
  }
 },
 "nbformat": 4,
 "nbformat_minor": 5
}
